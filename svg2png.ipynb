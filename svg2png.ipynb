{
 "cells": [
  {
   "cell_type": "code",
   "execution_count": 3,
   "id": "2999dab3-c0d5-46e0-81ce-4cf4426f1a52",
   "metadata": {},
   "outputs": [],
   "source": [
    "from containerized_gui.decorator import ui\n"
   ]
  },
  {
   "cell_type": "code",
   "execution_count": 4,
   "id": "0feea925-8abe-4503-9e91-aab83abe6ac1",
   "metadata": {},
   "outputs": [],
   "source": [
    "\n",
    "@ui(name=\"gimp\")\n",
    "def svg2png(output_files):\n",
    "    print(f\"{output_files=}\")\n",
    "    # TODO: do something with the output_files?\n",
    "    return output_files\n"
   ]
  },
  {
   "cell_type": "code",
   "execution_count": 5,
   "id": "a9f333c3-4adc-4d6f-b133-e55af5a23500",
   "metadata": {},
   "outputs": [
    {
     "name": "stdout",
     "output_type": "stream",
     "text": [
      "opening browser tab for http://Marcus-Macbook-Air.local:6080/vnc.html?host=Marcus-Macbook-Air.local&port=6080&autoconnect=1&password=1234\n",
      "copying space-shuttle.png to ./output\n",
      "output_files=['./output/space-shuttle.png']\n"
     ]
    }
   ],
   "source": [
    "output_files = svg2png(\"./data/space-shuttle.svg\")\n"
   ]
  },
  {
   "cell_type": "code",
   "execution_count": null,
   "id": "7a0ca21c-d9eb-490c-a61c-796cfcdd43db",
   "metadata": {},
   "outputs": [],
   "source": []
  }
 ],
 "metadata": {
  "kernelspec": {
   "display_name": "Python 3 (ipykernel)",
   "language": "python",
   "name": "python3"
  },
  "language_info": {
   "codemirror_mode": {
    "name": "ipython",
    "version": 3
   },
   "file_extension": ".py",
   "mimetype": "text/x-python",
   "name": "python",
   "nbconvert_exporter": "python",
   "pygments_lexer": "ipython3",
   "version": "3.8.5"
  }
 },
 "nbformat": 4,
 "nbformat_minor": 5
}
