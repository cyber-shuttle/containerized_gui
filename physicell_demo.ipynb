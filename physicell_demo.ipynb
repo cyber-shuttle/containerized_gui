{
 "cells": [
  {
   "cell_type": "code",
   "execution_count": 1,
   "id": "166ff801-2090-4ad3-adde-454e92619b54",
   "metadata": {},
   "outputs": [],
   "source": [
    "import traitlets\n",
    "import ipywidgets as widgets\n",
    "from containerized_gui.widgets import GUIContainer, FILE\n",
    "from IPython.display import SVG\n",
    "from os.path import basename\n",
    "import base64\n",
    "from IPython.display import HTML\n",
    "\n",
    "\n",
    "class Data(traitlets.HasTraits):\n",
    "    template = traitlets.Dict(traitlets.Unicode())\n",
    "    output_files = traitlets.List(traitlets.Unicode())\n",
    "    svg_snapshots = traitlets.List(traitlets.Unicode())\n",
    "    \n",
    "    @traitlets.observe('output_files')\n",
    "    def _observer_output_files(self, change):\n",
    "        print(\"_observer_output_files called\", self.output_files)\n",
    "        self.svg_snapshots = sorted(list(filter(lambda f: basename(f).startswith(\"snapshot\") and f.endswith(\".svg\"), self.output_files)))\n",
    "        \n",
    "    @traitlets.observe('template')\n",
    "    def _observer_template(self, change):\n",
    "        print(\"_observer_template called\")\n",
    "        self.output_files = []\n",
    "    \n",
    "    \n",
    "data = Data()\n",
    "\n",
    "# Just for debugging\n",
    "# out = widgets.Output()\n",
    "# data.observe(lambda c: out.append_stdout(str(c) + \"\\n\\n\"))\n",
    "# out"
   ]
  },
  {
   "cell_type": "markdown",
   "id": "1970418f-d435-42a2-916f-29e7dc983756",
   "metadata": {},
   "source": [
    "# PhysiCell Sample Projects\n",
    "\n",
    "Select a PhysiCell sample project below. You'll then be able to edit and run that model."
   ]
  },
  {
   "cell_type": "code",
   "execution_count": 2,
   "id": "7ac519a9-518a-4466-9e34-ac7978b627fa",
   "metadata": {},
   "outputs": [
    {
     "data": {
      "application/vnd.jupyter.widget-view+json": {
       "model_id": "ba019818e10f496c9f0b34f01bb98460",
       "version_major": 2,
       "version_minor": 0
      },
      "text/plain": [
       "Dropdown(description='Sample Project:', options=(('Select a sample', ''), ('Biorobots (2D)', 'biorobots'), ('A…"
      ]
     },
     "metadata": {},
     "output_type": "display_data"
    }
   ],
   "source": [
    "template_dropdown = widgets.Dropdown(\n",
    "    options=[('Select a sample', ''), \n",
    "             ('Biorobots (2D)', 'biorobots'), \n",
    "             ('Anti-cancer biorobots (2D)', 'cancer-biorobots'), \n",
    "             ('Template', 'template')],\n",
    "    value='',\n",
    "    description='Sample Project:',\n",
    ")\n",
    "def template_changed(change):\n",
    "    if change['new'] == 'biorobots':\n",
    "        data.template = {'template': \"./data/physicell_biorobots.xml\", 'exec': '/usr/local/bin/biorobots'}\n",
    "    elif change['new'] == 'template':\n",
    "        data.template = {'template': \"./data/physicell_template.xml\", \"exec\": \"/usr/local/bin/project\"}\n",
    "    else:\n",
    "        data.template = {}\n",
    "template_dropdown.observe(template_changed, 'value')\n",
    "template_dropdown.style.description_width = \"100px\"\n",
    "template_dropdown"
   ]
  },
  {
   "cell_type": "code",
   "execution_count": 3,
   "id": "50e6fe7b-91b0-429a-bcad-4def9e6f53f2",
   "metadata": {},
   "outputs": [
    {
     "data": {
      "application/vnd.jupyter.widget-view+json": {
       "model_id": "24a02026b14340c7b924890996305857",
       "version_major": 2,
       "version_minor": 0
      },
      "text/plain": [
       "HBox()"
      ]
     },
     "metadata": {},
     "output_type": "display_data"
    }
   ],
   "source": [
    "hbox = widgets.HBox()\n",
    "gui_container_widget = None\n",
    "output_files_dlink = None\n",
    "def data_template_changed(change):\n",
    "    global gui_container_widget\n",
    "    global output_files_dlink\n",
    "    if not change.new.get('template'):\n",
    "        return\n",
    "    if gui_container_widget is not None:\n",
    "        gui_container_widget.shutdown()\n",
    "    if output_files_dlink is not None:\n",
    "        output_files_dlink.unlink()\n",
    "    print(\"starting gui container\")\n",
    "    gui_container_widget = GUIContainer(image_name=\"physicell\", \n",
    "                                        width=1100, \n",
    "                                        input_file=data.template['template'], \n",
    "                                        args=[\"--studio\", \"--config\", FILE, \"-e\", data.template['exec']])\n",
    "    output_files_dlink = traitlets.dlink((gui_container_widget, 'output_files'), (data, 'output_files'))\n",
    "    hbox.children = [gui_container_widget]\n",
    "\n",
    "data.observe(data_template_changed, 'template')\n",
    "hbox"
   ]
  },
  {
   "cell_type": "code",
   "execution_count": 4,
   "id": "fdc4c7cf-8455-46e5-8d9b-396a311a03e6",
   "metadata": {},
   "outputs": [
    {
     "data": {
      "application/vnd.jupyter.widget-view+json": {
       "model_id": "99fe10f2b46a413384f1cbf74189f277",
       "version_major": 2,
       "version_minor": 0
      },
      "text/plain": [
       "VBox(children=(IntSlider(value=1, description='Snapshot Image', max=1, min=1, style=SliderStyle(description_wi…"
      ]
     },
     "metadata": {},
     "output_type": "display_data"
    }
   ],
   "source": [
    "snapshot_slider = widgets.IntSlider(min=1, value=1, max=1, description=\"Snapshot Image\" )\n",
    "snapshot_slider.style.description_width = \"100px\"\n",
    "snapshot_output = widgets.Output()\n",
    "vbox = widgets.VBox([snapshot_slider, snapshot_output])\n",
    "\n",
    "def svg_snapshots_changed(change):\n",
    "    snapshot_slider.value = 1\n",
    "    snapshot_slider.max = max(1, len(data.svg_snapshots))\n",
    "    if len(data.svg_snapshots) > 0:\n",
    "        selected_snapshot_changed()\n",
    "    else:\n",
    "        snapshot_output.outputs = ()\n",
    "data.observe(svg_snapshots_changed, 'svg_snapshots')\n",
    "\n",
    "def selected_snapshot_changed(change=None):\n",
    "    snapshot_output.outputs = ()\n",
    "    if snapshot_slider.value <= len(data.svg_snapshots):\n",
    "        selected_snapshot = data.svg_snapshots[snapshot_slider.value - 1]\n",
    "        with open(selected_snapshot, 'rb') as svg_file:\n",
    "            svg_html = HTML(f'<img src=\"data:image/svg+xml;base64,{base64.b64encode(svg_file.read()).decode()}\" style=\"width: 50%\">')\n",
    "            snapshot_output.append_display_data(svg_html)\n",
    "snapshot_slider.observe(selected_snapshot_changed, 'value')\n",
    "\n",
    "vbox"
   ]
  },
  {
   "cell_type": "code",
   "execution_count": 87,
   "id": "cfb64393-2ae0-454a-8aa7-6dd1c2bd621b",
   "metadata": {},
   "outputs": [],
   "source": [
    "# snapshot_slider.max = len(data.svg_snapshots)"
   ]
  }
 ],
 "metadata": {
  "kernelspec": {
   "display_name": "Python 3 (ipykernel)",
   "language": "python",
   "name": "python3"
  },
  "language_info": {
   "codemirror_mode": {
    "name": "ipython",
    "version": 3
   },
   "file_extension": ".py",
   "mimetype": "text/x-python",
   "name": "python",
   "nbconvert_exporter": "python",
   "pygments_lexer": "ipython3",
   "version": "3.8.5"
  }
 },
 "nbformat": 4,
 "nbformat_minor": 5
}
