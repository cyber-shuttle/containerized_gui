{
 "cells": [
  {
   "cell_type": "code",
   "execution_count": 1,
   "id": "2999dab3-c0d5-46e0-81ce-4cf4426f1a52",
   "metadata": {},
   "outputs": [],
   "source": [
    "from containerized_gui.decorator import ui\n"
   ]
  },
  {
   "cell_type": "code",
   "execution_count": 2,
   "id": "0feea925-8abe-4503-9e91-aab83abe6ac1",
   "metadata": {},
   "outputs": [],
   "source": [
    "\n",
    "@ui(name=\"physicell\", width=1100)\n",
    "def physicell(output_files):\n",
    "    print(f\"{output_files=}\")\n"
   ]
  },
  {
   "cell_type": "code",
   "execution_count": 3,
   "id": "a9f333c3-4adc-4d6f-b133-e55af5a23500",
   "metadata": {},
   "outputs": [
    {
     "data": {
      "application/vnd.jupyter.widget-view+json": {
       "model_id": "594eb8f2d54e45b1bf425b31dc02502f",
       "version_major": 2,
       "version_minor": 0
      },
      "text/plain": [
       "Output(layout=Layout(border_bottom='1px solid black', border_left='1px solid black', border_right='1px solid b…"
      ]
     },
     "execution_count": 3,
     "metadata": {},
     "output_type": "execute_result"
    }
   ],
   "source": [
    "physicell(\"./data/physicell_template.xml\")\n"
   ]
  },
  {
   "cell_type": "code",
   "execution_count": null,
   "id": "cda76609-57f1-4fc4-8fd6-0d8107dc6c39",
   "metadata": {},
   "outputs": [],
   "source": []
  }
 ],
 "metadata": {
  "kernelspec": {
   "display_name": "Python 3 (ipykernel)",
   "language": "python",
   "name": "python3"
  },
  "language_info": {
   "codemirror_mode": {
    "name": "ipython",
    "version": 3
   },
   "file_extension": ".py",
   "mimetype": "text/x-python",
   "name": "python",
   "nbconvert_exporter": "python",
   "pygments_lexer": "ipython3",
   "version": "3.8.5"
  },
  "vscode": {
   "interpreter": {
    "hash": "f2b96a41dbabcd8eb8918847b12d442806c70ae14ae790dd823e0e66b37cb690"
   }
  }
 },
 "nbformat": 4,
 "nbformat_minor": 5
}
